{
  "nbformat": 4,
  "nbformat_minor": 0,
  "metadata": {
    "colab": {
      "provenance": []
    },
    "kernelspec": {
      "name": "python3",
      "display_name": "Python 3"
    },
    "language_info": {
      "name": "python"
    }
  },
  "cells": [
    {
      "cell_type": "code",
      "execution_count": 1,
      "metadata": {
        "colab": {
          "base_uri": "https://localhost:8080/"
        },
        "id": "Cs_6ktmdRGx7",
        "outputId": "1fa2df4e-fabd-4b01-b44d-b66f8807d61c"
      },
      "outputs": [
        {
          "output_type": "stream",
          "name": "stdout",
          "text": [
            "Looking in indexes: https://pypi.org/simple, https://us-python.pkg.dev/colab-wheels/public/simple/\n",
            "Requirement already satisfied: pyspark in /usr/local/lib/python3.9/dist-packages (3.4.0)\n",
            "Requirement already satisfied: py4j==0.10.9.7 in /usr/local/lib/python3.9/dist-packages (from pyspark) (0.10.9.7)\n"
          ]
        }
      ],
      "source": [
        "!pip install pyspark"
      ]
    },
    {
      "cell_type": "code",
      "source": [
        "# Import the required libraries\n",
        "from pyspark.sql import SparkSession\n",
        "from pyspark.sql.functions import *\n",
        "from pyspark.ml.fpm import FPGrowth"
      ],
      "metadata": {
        "id": "IuYqMadaRTIp"
      },
      "execution_count": 2,
      "outputs": []
    },
    {
      "cell_type": "code",
      "source": [
        "# Create a Spark session\n",
        "spark = SparkSession.builder \\\n",
        "    .master(\"local\") \\\n",
        "    .appName(\"Frequent Itemset\") \\\n",
        "    .config(\"spark.some.config.option\", \"some-value\") \\\n",
        "    .getOrCreate()\n",
        "\n",
        "df = spark.read.options(header = 'True', delimiter = ';').csv(\"/content/sample_data/market-basket.csv\")\n",
        "df.show()"
      ],
      "metadata": {
        "colab": {
          "base_uri": "https://localhost:8080/"
        },
        "id": "BLQNlMX6RWJy",
        "outputId": "8d8d5bda-5e8c-4549-cf8b-42ad6658bd57"
      },
      "execution_count": 3,
      "outputs": [
        {
          "output_type": "stream",
          "name": "stdout",
          "text": [
            "+------+--------------------+--------+----------------+-----+----------+--------------+\n",
            "|BillNo|            Itemname|Quantity|            Date|Price|CustomerID|       Country|\n",
            "+------+--------------------+--------+----------------+-----+----------+--------------+\n",
            "|536365|WHITE HANGING HEA...|       6|01.12.2010 08:26| 2,55|     17850|United Kingdom|\n",
            "|536365| WHITE METAL LANTERN|       6|01.12.2010 08:26| 3,39|     17850|United Kingdom|\n",
            "|536365|CREAM CUPID HEART...|       8|01.12.2010 08:26| 2,75|     17850|United Kingdom|\n",
            "|536365|KNITTED UNION FLA...|       6|01.12.2010 08:26| 3,39|     17850|United Kingdom|\n",
            "|536365|RED WOOLLY HOTTIE...|       6|01.12.2010 08:26| 3,39|     17850|United Kingdom|\n",
            "|536365|SET 7 BABUSHKA NE...|       2|01.12.2010 08:26| 7,65|     17850|United Kingdom|\n",
            "|536365|GLASS STAR FROSTE...|       6|01.12.2010 08:26| 4,25|     17850|United Kingdom|\n",
            "|536366|HAND WARMER UNION...|       6|01.12.2010 08:28| 1,85|     17850|United Kingdom|\n",
            "|536366|HAND WARMER RED P...|       6|01.12.2010 08:28| 1,85|     17850|United Kingdom|\n",
            "|536367|ASSORTED COLOUR B...|      32|01.12.2010 08:34| 1,69|     13047|United Kingdom|\n",
            "|536367|POPPY'S PLAYHOUSE...|       6|01.12.2010 08:34|  2,1|     13047|United Kingdom|\n",
            "|536367|POPPY'S PLAYHOUSE...|       6|01.12.2010 08:34|  2,1|     13047|United Kingdom|\n",
            "|536367|FELTCRAFT PRINCES...|       8|01.12.2010 08:34| 3,75|     13047|United Kingdom|\n",
            "|536367|IVORY KNITTED MUG...|       6|01.12.2010 08:34| 1,65|     13047|United Kingdom|\n",
            "|536367|BOX OF 6 ASSORTED...|       6|01.12.2010 08:34| 4,25|     13047|United Kingdom|\n",
            "|536367|BOX OF VINTAGE JI...|       3|01.12.2010 08:34| 4,95|     13047|United Kingdom|\n",
            "|536367|BOX OF VINTAGE AL...|       2|01.12.2010 08:34| 9,95|     13047|United Kingdom|\n",
            "|536367|HOME BUILDING BLO...|       3|01.12.2010 08:34| 5,95|     13047|United Kingdom|\n",
            "|536367|LOVE BUILDING BLO...|       3|01.12.2010 08:34| 5,95|     13047|United Kingdom|\n",
            "|536367|RECIPE BOX WITH M...|       4|01.12.2010 08:34| 7,95|     13047|United Kingdom|\n",
            "+------+--------------------+--------+----------------+-----+----------+--------------+\n",
            "only showing top 20 rows\n",
            "\n"
          ]
        }
      ]
    },
    {
      "cell_type": "code",
      "source": [
        "# Only take two columns for the FP-Growth that have significance effect to the prediction: \n",
        "#BillNo because we want to know what items bought in each transaction and Itemname because we want to know the details of the items bought in each transaction\n",
        "de = df.select(\"BillNo\", \"Itemname\")\n",
        "de.show()"
      ],
      "metadata": {
        "colab": {
          "base_uri": "https://localhost:8080/"
        },
        "id": "ec-81xiWXlHl",
        "outputId": "8a78c91e-6f69-41df-a6f2-cfdd75ad322d"
      },
      "execution_count": 4,
      "outputs": [
        {
          "output_type": "stream",
          "name": "stdout",
          "text": [
            "+------+--------------------+\n",
            "|BillNo|            Itemname|\n",
            "+------+--------------------+\n",
            "|536365|WHITE HANGING HEA...|\n",
            "|536365| WHITE METAL LANTERN|\n",
            "|536365|CREAM CUPID HEART...|\n",
            "|536365|KNITTED UNION FLA...|\n",
            "|536365|RED WOOLLY HOTTIE...|\n",
            "|536365|SET 7 BABUSHKA NE...|\n",
            "|536365|GLASS STAR FROSTE...|\n",
            "|536366|HAND WARMER UNION...|\n",
            "|536366|HAND WARMER RED P...|\n",
            "|536367|ASSORTED COLOUR B...|\n",
            "|536367|POPPY'S PLAYHOUSE...|\n",
            "|536367|POPPY'S PLAYHOUSE...|\n",
            "|536367|FELTCRAFT PRINCES...|\n",
            "|536367|IVORY KNITTED MUG...|\n",
            "|536367|BOX OF 6 ASSORTED...|\n",
            "|536367|BOX OF VINTAGE JI...|\n",
            "|536367|BOX OF VINTAGE AL...|\n",
            "|536367|HOME BUILDING BLO...|\n",
            "|536367|LOVE BUILDING BLO...|\n",
            "|536367|RECIPE BOX WITH M...|\n",
            "+------+--------------------+\n",
            "only showing top 20 rows\n",
            "\n"
          ]
        }
      ]
    },
    {
      "cell_type": "code",
      "source": [
        "# Group by the BillNo, so every items bought in a transaction will be gathered togetherin a row of data\n",
        "dh = de.groupBy(\"BillNo\").agg(collect_list('Itemname').alias('Itemname'))\n",
        "dh.show()"
      ],
      "metadata": {
        "colab": {
          "base_uri": "https://localhost:8080/"
        },
        "id": "k1uHZkueYmEs",
        "outputId": "ae8d934d-535e-4b64-ba03-d157de920968"
      },
      "execution_count": 5,
      "outputs": [
        {
          "output_type": "stream",
          "name": "stdout",
          "text": [
            "+------+--------------------+\n",
            "|BillNo|            Itemname|\n",
            "+------+--------------------+\n",
            "|536365|[WHITE HANGING HE...|\n",
            "|536366|[HAND WARMER UNIO...|\n",
            "|536367|[ASSORTED COLOUR ...|\n",
            "|536368|[JAM MAKING SET W...|\n",
            "|536369|[BATH BUILDING BL...|\n",
            "|536370|[ALARM CLOCK BAKE...|\n",
            "|536371|[PAPER CHAIN KIT ...|\n",
            "|536372|[HAND WARMER RED ...|\n",
            "|536373|[WHITE HANGING HE...|\n",
            "|536374|[VICTORIAN SEWING...|\n",
            "|536375|[WHITE HANGING HE...|\n",
            "|536376|[HOT WATER BOTTLE...|\n",
            "|536377|[HAND WARMER RED ...|\n",
            "|536378|[JUMBO BAG PINK P...|\n",
            "|536380|[JAM MAKING SET P...|\n",
            "|536381|[RETROSPOT TEA SE...|\n",
            "|536382|[INFLATABLE POLIT...|\n",
            "|536384|[WOOD BLACK BOARD...|\n",
            "|536385|[SET 3 WICKER OVA...|\n",
            "|536386|[WHITE WIRE EGG H...|\n",
            "+------+--------------------+\n",
            "only showing top 20 rows\n",
            "\n"
          ]
        }
      ]
    },
    {
      "cell_type": "code",
      "source": [
        "# List of minSupport and minConfidence values\n",
        "min_support= [0.1, 0.5, 0.6, 0.8]\n",
        "min_confidence = [0.1, 0.6, 0.8]"
      ],
      "metadata": {
        "id": "iBSfOCE1aTw1"
      },
      "execution_count": 9,
      "outputs": []
    },
    {
      "cell_type": "code",
      "source": [
        "# The string should be converted to array\n",
        "dh_new = dh.withColumn(\"Itemname\", array(dh[\"Itemname\"]))\n",
        "dh_new.show()"
      ],
      "metadata": {
        "colab": {
          "base_uri": "https://localhost:8080/"
        },
        "id": "UCZ5OReCdzr7",
        "outputId": "6c615753-d9d0-408d-8744-78bd0d54a8d1"
      },
      "execution_count": 10,
      "outputs": [
        {
          "output_type": "stream",
          "name": "stdout",
          "text": [
            "+------+--------------------+\n",
            "|BillNo|            Itemname|\n",
            "+------+--------------------+\n",
            "|536365|[[WHITE HANGING H...|\n",
            "|536366|[[HAND WARMER UNI...|\n",
            "|536367|[[ASSORTED COLOUR...|\n",
            "|536368|[[JAM MAKING SET ...|\n",
            "|536369|[[BATH BUILDING B...|\n",
            "|536370|[[ALARM CLOCK BAK...|\n",
            "|536371|[[PAPER CHAIN KIT...|\n",
            "|536372|[[HAND WARMER RED...|\n",
            "|536373|[[WHITE HANGING H...|\n",
            "|536374|[[VICTORIAN SEWIN...|\n",
            "|536375|[[WHITE HANGING H...|\n",
            "|536376|[[HOT WATER BOTTL...|\n",
            "|536377|[[HAND WARMER RED...|\n",
            "|536378|[[JUMBO BAG PINK ...|\n",
            "|536380|[[JAM MAKING SET ...|\n",
            "|536381|[[RETROSPOT TEA S...|\n",
            "|536382|[[INFLATABLE POLI...|\n",
            "|536384|[[WOOD BLACK BOAR...|\n",
            "|536385|[[SET 3 WICKER OV...|\n",
            "|536386|[[WHITE WIRE EGG ...|\n",
            "+------+--------------------+\n",
            "only showing top 20 rows\n",
            "\n"
          ]
        }
      ]
    },
    {
      "cell_type": "code",
      "source": [
        "# Loop for different minSupport and minConfidence value\n",
        "for x in min_support:\n",
        "  for y in min_confidence:\n",
        "    print(f\"minSupport: {x}, minConfidence: {y}\")\n",
        "    fpGrowth = FPGrowth(itemsCol=\"Itemname\", minSupport=x, minConfidence=y)\n",
        "    model = fpGrowth.fit(dh_new)\n",
        "\n",
        "    # Display frequent itemsets.\n",
        "    model.freqItemsets.show()\n",
        "\n",
        "    # Display generated association rules.\n",
        "    #model.associationRules.show()\n",
        "\n",
        "    # transform examines the input items against all the association rules and summarize the\n",
        "    # consequents as prediction\n",
        "    #model.transform(dh_new).show()\n",
        "\n",
        "    # Frequent Itemset\n",
        "    #model.freqItemsets.show()\n",
        "    # Display generated association rules.\n",
        "    model.associationRules.show(20,False)"
      ],
      "metadata": {
        "colab": {
          "base_uri": "https://localhost:8080/"
        },
        "id": "n-hyydCka-Of",
        "outputId": "46b94094-e893-4b4d-cc9a-8b7fea0bc25d"
      },
      "execution_count": 13,
      "outputs": [
        {
          "output_type": "stream",
          "name": "stdout",
          "text": [
            "minSupport: 0.1, minConfidence: 0.1\n",
            "+-----+----+\n",
            "|items|freq|\n",
            "+-----+----+\n",
            "| [[]]| 113|\n",
            "+-----+----+\n",
            "\n",
            "+----------+----------+----------+----+-------+\n",
            "|antecedent|consequent|confidence|lift|support|\n",
            "+----------+----------+----------+----+-------+\n",
            "+----------+----------+----------+----+-------+\n",
            "\n",
            "minSupport: 0.1, minConfidence: 0.6\n",
            "+-----+----+\n",
            "|items|freq|\n",
            "+-----+----+\n",
            "| [[]]| 113|\n",
            "+-----+----+\n",
            "\n",
            "+----------+----------+----------+----+-------+\n",
            "|antecedent|consequent|confidence|lift|support|\n",
            "+----------+----------+----------+----+-------+\n",
            "+----------+----------+----------+----+-------+\n",
            "\n",
            "minSupport: 0.1, minConfidence: 0.8\n",
            "+-----+----+\n",
            "|items|freq|\n",
            "+-----+----+\n",
            "| [[]]| 113|\n",
            "+-----+----+\n",
            "\n",
            "+----------+----------+----------+----+-------+\n",
            "|antecedent|consequent|confidence|lift|support|\n",
            "+----------+----------+----------+----+-------+\n",
            "+----------+----------+----------+----+-------+\n",
            "\n",
            "minSupport: 0.5, minConfidence: 0.1\n",
            "+-----+----+\n",
            "|items|freq|\n",
            "+-----+----+\n",
            "+-----+----+\n",
            "\n",
            "+----------+----------+----------+----+-------+\n",
            "|antecedent|consequent|confidence|lift|support|\n",
            "+----------+----------+----------+----+-------+\n",
            "+----------+----------+----------+----+-------+\n",
            "\n",
            "minSupport: 0.5, minConfidence: 0.6\n",
            "+-----+----+\n",
            "|items|freq|\n",
            "+-----+----+\n",
            "+-----+----+\n",
            "\n",
            "+----------+----------+----------+----+-------+\n",
            "|antecedent|consequent|confidence|lift|support|\n",
            "+----------+----------+----------+----+-------+\n",
            "+----------+----------+----------+----+-------+\n",
            "\n",
            "minSupport: 0.5, minConfidence: 0.8\n",
            "+-----+----+\n",
            "|items|freq|\n",
            "+-----+----+\n",
            "+-----+----+\n",
            "\n",
            "+----------+----------+----------+----+-------+\n",
            "|antecedent|consequent|confidence|lift|support|\n",
            "+----------+----------+----------+----+-------+\n",
            "+----------+----------+----------+----+-------+\n",
            "\n",
            "minSupport: 0.6, minConfidence: 0.1\n",
            "+-----+----+\n",
            "|items|freq|\n",
            "+-----+----+\n",
            "+-----+----+\n",
            "\n",
            "+----------+----------+----------+----+-------+\n",
            "|antecedent|consequent|confidence|lift|support|\n",
            "+----------+----------+----------+----+-------+\n",
            "+----------+----------+----------+----+-------+\n",
            "\n",
            "minSupport: 0.6, minConfidence: 0.6\n",
            "+-----+----+\n",
            "|items|freq|\n",
            "+-----+----+\n",
            "+-----+----+\n",
            "\n",
            "+----------+----------+----------+----+-------+\n",
            "|antecedent|consequent|confidence|lift|support|\n",
            "+----------+----------+----------+----+-------+\n",
            "+----------+----------+----------+----+-------+\n",
            "\n",
            "minSupport: 0.6, minConfidence: 0.8\n",
            "+-----+----+\n",
            "|items|freq|\n",
            "+-----+----+\n",
            "+-----+----+\n",
            "\n",
            "+----------+----------+----------+----+-------+\n",
            "|antecedent|consequent|confidence|lift|support|\n",
            "+----------+----------+----------+----+-------+\n",
            "+----------+----------+----------+----+-------+\n",
            "\n",
            "minSupport: 0.8, minConfidence: 0.1\n",
            "+-----+----+\n",
            "|items|freq|\n",
            "+-----+----+\n",
            "+-----+----+\n",
            "\n",
            "+----------+----------+----------+----+-------+\n",
            "|antecedent|consequent|confidence|lift|support|\n",
            "+----------+----------+----------+----+-------+\n",
            "+----------+----------+----------+----+-------+\n",
            "\n",
            "minSupport: 0.8, minConfidence: 0.6\n",
            "+-----+----+\n",
            "|items|freq|\n",
            "+-----+----+\n",
            "+-----+----+\n",
            "\n",
            "+----------+----------+----------+----+-------+\n",
            "|antecedent|consequent|confidence|lift|support|\n",
            "+----------+----------+----------+----+-------+\n",
            "+----------+----------+----------+----+-------+\n",
            "\n",
            "minSupport: 0.8, minConfidence: 0.8\n",
            "+-----+----+\n",
            "|items|freq|\n",
            "+-----+----+\n",
            "+-----+----+\n",
            "\n",
            "+----------+----------+----------+----+-------+\n",
            "|antecedent|consequent|confidence|lift|support|\n",
            "+----------+----------+----------+----+-------+\n",
            "+----------+----------+----------+----+-------+\n",
            "\n"
          ]
        }
      ]
    },
    {
      "cell_type": "markdown",
      "source": [
        "**Conclusion**\n",
        "In conclusion, the FP-Growth program hasn't worked well yet."
      ],
      "metadata": {
        "id": "vMplTtW1fNfH"
      }
    }
  ]
}