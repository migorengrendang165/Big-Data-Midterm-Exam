{
  "nbformat": 4,
  "nbformat_minor": 0,
  "metadata": {
    "colab": {
      "provenance": []
    },
    "kernelspec": {
      "name": "python3",
      "display_name": "Python 3"
    },
    "language_info": {
      "name": "python"
    }
  },
  "cells": [
    {
      "cell_type": "code",
      "execution_count": 1,
      "metadata": {
        "colab": {
          "base_uri": "https://localhost:8080/"
        },
        "id": "Cs_6ktmdRGx7",
        "outputId": "e0b9a4b8-e358-435e-d30e-404c57a61806"
      },
      "outputs": [
        {
          "output_type": "stream",
          "name": "stdout",
          "text": [
            "Looking in indexes: https://pypi.org/simple, https://us-python.pkg.dev/colab-wheels/public/simple/\n",
            "Collecting pyspark\n",
            "  Downloading pyspark-3.4.0.tar.gz (310.8 MB)\n",
            "\u001b[2K     \u001b[90m━━━━━━━━━━━━━━━━━━━━━━━━━━━━━━━━━━━━━━━\u001b[0m \u001b[32m310.8/310.8 MB\u001b[0m \u001b[31m2.2 MB/s\u001b[0m eta \u001b[36m0:00:00\u001b[0m\n",
            "\u001b[?25h  Preparing metadata (setup.py) ... \u001b[?25l\u001b[?25hdone\n",
            "Requirement already satisfied: py4j==0.10.9.7 in /usr/local/lib/python3.9/dist-packages (from pyspark) (0.10.9.7)\n",
            "Building wheels for collected packages: pyspark\n",
            "  Building wheel for pyspark (setup.py) ... \u001b[?25l\u001b[?25hdone\n",
            "  Created wheel for pyspark: filename=pyspark-3.4.0-py2.py3-none-any.whl size=311317145 sha256=1c2aee6db7412a9e3f51d001cac5572234d062f1721e36a81515d549c84ce9c8\n",
            "  Stored in directory: /root/.cache/pip/wheels/9f/34/a4/159aa12d0a510d5ff7c8f0220abbea42e5d81ecf588c4fd884\n",
            "Successfully built pyspark\n",
            "Installing collected packages: pyspark\n",
            "Successfully installed pyspark-3.4.0\n"
          ]
        }
      ],
      "source": [
        "!pip install pyspark"
      ]
    },
    {
      "cell_type": "code",
      "source": [
        "# Import the required libraries\n",
        "from pyspark.sql import SparkSession\n",
        "from pyspark.sql.functions import *\n",
        "from pyspark.ml.fpm import FPGrowth"
      ],
      "metadata": {
        "id": "IuYqMadaRTIp"
      },
      "execution_count": 2,
      "outputs": []
    },
    {
      "cell_type": "code",
      "source": [
        "# Create a Spark session\n",
        "spark = SparkSession.builder \\\n",
        "    .master(\"local\") \\\n",
        "    .appName(\"Frequent Itemset\") \\\n",
        "    .config(\"spark.some.config.option\", \"some-value\") \\\n",
        "    .getOrCreate()\n",
        "\n",
        "df = spark.read.options(header = 'True', delimiter = ';').csv(\"/content/sample_data/market-basket.csv\")\n",
        "df.show()"
      ],
      "metadata": {
        "colab": {
          "base_uri": "https://localhost:8080/"
        },
        "id": "BLQNlMX6RWJy",
        "outputId": "836a736d-f7d5-46dc-d202-d5598bd03b1b"
      },
      "execution_count": 8,
      "outputs": [
        {
          "output_type": "stream",
          "name": "stdout",
          "text": [
            "+------+--------------------+--------+----------------+-----+----------+--------------+\n",
            "|BillNo|            Itemname|Quantity|            Date|Price|CustomerID|       Country|\n",
            "+------+--------------------+--------+----------------+-----+----------+--------------+\n",
            "|536365|WHITE HANGING HEA...|       6|01.12.2010 08:26| 2,55|     17850|United Kingdom|\n",
            "|536365| WHITE METAL LANTERN|       6|01.12.2010 08:26| 3,39|     17850|United Kingdom|\n",
            "|536365|CREAM CUPID HEART...|       8|01.12.2010 08:26| 2,75|     17850|United Kingdom|\n",
            "|536365|KNITTED UNION FLA...|       6|01.12.2010 08:26| 3,39|     17850|United Kingdom|\n",
            "|536365|RED WOOLLY HOTTIE...|       6|01.12.2010 08:26| 3,39|     17850|United Kingdom|\n",
            "|536365|SET 7 BABUSHKA NE...|       2|01.12.2010 08:26| 7,65|     17850|United Kingdom|\n",
            "|536365|GLASS STAR FROSTE...|       6|01.12.2010 08:26| 4,25|     17850|United Kingdom|\n",
            "|536366|HAND WARMER UNION...|       6|01.12.2010 08:28| 1,85|     17850|United Kingdom|\n",
            "|536366|HAND WARMER RED P...|       6|01.12.2010 08:28| 1,85|     17850|United Kingdom|\n",
            "|536367|ASSORTED COLOUR B...|      32|01.12.2010 08:34| 1,69|     13047|United Kingdom|\n",
            "|536367|POPPY'S PLAYHOUSE...|       6|01.12.2010 08:34|  2,1|     13047|United Kingdom|\n",
            "|536367|POPPY'S PLAYHOUSE...|       6|01.12.2010 08:34|  2,1|     13047|United Kingdom|\n",
            "|536367|FELTCRAFT PRINCES...|       8|01.12.2010 08:34| 3,75|     13047|United Kingdom|\n",
            "|536367|IVORY KNITTED MUG...|       6|01.12.2010 08:34| 1,65|     13047|United Kingdom|\n",
            "|536367|BOX OF 6 ASSORTED...|       6|01.12.2010 08:34| 4,25|     13047|United Kingdom|\n",
            "|536367|BOX OF VINTAGE JI...|       3|01.12.2010 08:34| 4,95|     13047|United Kingdom|\n",
            "|536367|BOX OF VINTAGE AL...|       2|01.12.2010 08:34| 9,95|     13047|United Kingdom|\n",
            "|536367|HOME BUILDING BLO...|       3|01.12.2010 08:34| 5,95|     13047|United Kingdom|\n",
            "|536367|LOVE BUILDING BLO...|       3|01.12.2010 08:34| 5,95|     13047|United Kingdom|\n",
            "|536367|RECIPE BOX WITH M...|       4|01.12.2010 08:34| 7,95|     13047|United Kingdom|\n",
            "+------+--------------------+--------+----------------+-----+----------+--------------+\n",
            "only showing top 20 rows\n",
            "\n"
          ]
        }
      ]
    },
    {
      "cell_type": "code",
      "source": [
        "# Only take two columns for the FP-Growth that have significance effect to the prediction: \n",
        "#BillNo because we want to know what items bought in each transaction and Itemname because we want to know the details of the items bought in each transaction\n",
        "de = df.select(\"BillNo\", \"Itemname\")\n",
        "de.show()"
      ],
      "metadata": {
        "id": "ec-81xiWXlHl",
        "outputId": "4286576c-0f76-450f-aef6-d43d0aaa8e86",
        "colab": {
          "base_uri": "https://localhost:8080/"
        }
      },
      "execution_count": 13,
      "outputs": [
        {
          "output_type": "stream",
          "name": "stdout",
          "text": [
            "+------+--------------------+\n",
            "|BillNo|            Itemname|\n",
            "+------+--------------------+\n",
            "|536365|WHITE HANGING HEA...|\n",
            "|536365| WHITE METAL LANTERN|\n",
            "|536365|CREAM CUPID HEART...|\n",
            "|536365|KNITTED UNION FLA...|\n",
            "|536365|RED WOOLLY HOTTIE...|\n",
            "|536365|SET 7 BABUSHKA NE...|\n",
            "|536365|GLASS STAR FROSTE...|\n",
            "|536366|HAND WARMER UNION...|\n",
            "|536366|HAND WARMER RED P...|\n",
            "|536367|ASSORTED COLOUR B...|\n",
            "|536367|POPPY'S PLAYHOUSE...|\n",
            "|536367|POPPY'S PLAYHOUSE...|\n",
            "|536367|FELTCRAFT PRINCES...|\n",
            "|536367|IVORY KNITTED MUG...|\n",
            "|536367|BOX OF 6 ASSORTED...|\n",
            "|536367|BOX OF VINTAGE JI...|\n",
            "|536367|BOX OF VINTAGE AL...|\n",
            "|536367|HOME BUILDING BLO...|\n",
            "|536367|LOVE BUILDING BLO...|\n",
            "|536367|RECIPE BOX WITH M...|\n",
            "+------+--------------------+\n",
            "only showing top 20 rows\n",
            "\n"
          ]
        }
      ]
    },
    {
      "cell_type": "code",
      "source": [
        "# Group by the BillNo, so every items bought in a transaction will be gathered togetherin a row of data\n",
        "dh = de.groupBy(\"BillNo\").agg(collect_list('Itemname').alias('Itemname'))\n",
        "dh.show()"
      ],
      "metadata": {
        "id": "k1uHZkueYmEs",
        "outputId": "1f353153-3a94-465c-b501-6f6623693c13",
        "colab": {
          "base_uri": "https://localhost:8080/"
        }
      },
      "execution_count": 14,
      "outputs": [
        {
          "output_type": "stream",
          "name": "stdout",
          "text": [
            "+------+--------------------+\n",
            "|BillNo|            Itemname|\n",
            "+------+--------------------+\n",
            "|536365|[WHITE HANGING HE...|\n",
            "|536366|[HAND WARMER UNIO...|\n",
            "|536367|[ASSORTED COLOUR ...|\n",
            "|536368|[JAM MAKING SET W...|\n",
            "|536369|[BATH BUILDING BL...|\n",
            "|536370|[ALARM CLOCK BAKE...|\n",
            "|536371|[PAPER CHAIN KIT ...|\n",
            "|536372|[HAND WARMER RED ...|\n",
            "|536373|[WHITE HANGING HE...|\n",
            "|536374|[VICTORIAN SEWING...|\n",
            "|536375|[WHITE HANGING HE...|\n",
            "|536376|[HOT WATER BOTTLE...|\n",
            "|536377|[HAND WARMER RED ...|\n",
            "|536378|[JUMBO BAG PINK P...|\n",
            "|536380|[JAM MAKING SET P...|\n",
            "|536381|[RETROSPOT TEA SE...|\n",
            "|536382|[INFLATABLE POLIT...|\n",
            "|536384|[WOOD BLACK BOARD...|\n",
            "|536385|[SET 3 WICKER OVA...|\n",
            "|536386|[WHITE WIRE EGG H...|\n",
            "+------+--------------------+\n",
            "only showing top 20 rows\n",
            "\n"
          ]
        }
      ]
    },
    {
      "cell_type": "code",
      "source": [
        "# List of minSupport and minConfidence values\n",
        "min_support= [0.5, 0.6, 0.8]\n",
        "min_confidence = [0.6, 0.8]"
      ],
      "metadata": {
        "id": "iBSfOCE1aTw1"
      },
      "execution_count": 16,
      "outputs": []
    },
    {
      "cell_type": "code",
      "source": [
        "# The string should be converted to array\n",
        "dh_new = dh.withColumn(\"Itemname\", array(dh[\"Itemname\"]))\n",
        "dh_new.show()"
      ],
      "metadata": {
        "id": "UCZ5OReCdzr7",
        "outputId": "df6b7b34-abd7-4557-e02c-d61897c05b42",
        "colab": {
          "base_uri": "https://localhost:8080/"
        }
      },
      "execution_count": 22,
      "outputs": [
        {
          "output_type": "stream",
          "name": "stdout",
          "text": [
            "+------+--------------------+\n",
            "|BillNo|            Itemname|\n",
            "+------+--------------------+\n",
            "|536365|[[WHITE HANGING H...|\n",
            "|536366|[[HAND WARMER UNI...|\n",
            "|536367|[[ASSORTED COLOUR...|\n",
            "|536368|[[JAM MAKING SET ...|\n",
            "|536369|[[BATH BUILDING B...|\n",
            "|536370|[[ALARM CLOCK BAK...|\n",
            "|536371|[[PAPER CHAIN KIT...|\n",
            "|536372|[[HAND WARMER RED...|\n",
            "|536373|[[WHITE HANGING H...|\n",
            "|536374|[[VICTORIAN SEWIN...|\n",
            "|536375|[[WHITE HANGING H...|\n",
            "|536376|[[HOT WATER BOTTL...|\n",
            "|536377|[[HAND WARMER RED...|\n",
            "|536378|[[JUMBO BAG PINK ...|\n",
            "|536380|[[JAM MAKING SET ...|\n",
            "|536381|[[RETROSPOT TEA S...|\n",
            "|536382|[[INFLATABLE POLI...|\n",
            "|536384|[[WOOD BLACK BOAR...|\n",
            "|536385|[[SET 3 WICKER OV...|\n",
            "|536386|[[WHITE WIRE EGG ...|\n",
            "+------+--------------------+\n",
            "only showing top 20 rows\n",
            "\n"
          ]
        }
      ]
    },
    {
      "cell_type": "code",
      "source": [
        "# Loop for different minSupport and minConfidence value\n",
        "for x in min_support:\n",
        "  for y in min_confidence:\n",
        "    print(f\"minSupport: {x}, minConfidence: {y}\")\n",
        "    fpGrowth = FPGrowth(itemsCol=\"Itemname\", minSupport=x, minConfidence=y)\n",
        "    model = fpGrowth.fit(dh_new)\n",
        "\n",
        "    # Display frequent itemsets.\n",
        "    model.freqItemsets.show()\n",
        "\n",
        "    # Display generated association rules.\n",
        "    model.associationRules.show()\n",
        "\n",
        "    # transform examines the input items against all the association rules and summarize the\n",
        "    # consequents as prediction\n",
        "    model.transform(dh_new).show()"
      ],
      "metadata": {
        "id": "n-hyydCka-Of",
        "outputId": "a7bbeae6-75ca-4e03-e29d-3b70a9d1b7e8",
        "colab": {
          "base_uri": "https://localhost:8080/"
        }
      },
      "execution_count": 23,
      "outputs": [
        {
          "output_type": "stream",
          "name": "stdout",
          "text": [
            "minSupport: 0.5, minConfidence: 0.6\n",
            "+-----+----+\n",
            "|items|freq|\n",
            "+-----+----+\n",
            "+-----+----+\n",
            "\n",
            "+----------+----------+----------+----+-------+\n",
            "|antecedent|consequent|confidence|lift|support|\n",
            "+----------+----------+----------+----+-------+\n",
            "+----------+----------+----------+----+-------+\n",
            "\n",
            "+------+--------------------+----------+\n",
            "|BillNo|            Itemname|prediction|\n",
            "+------+--------------------+----------+\n",
            "|536365|[[WHITE HANGING H...|        []|\n",
            "|536366|[[HAND WARMER UNI...|        []|\n",
            "|536367|[[ASSORTED COLOUR...|        []|\n",
            "|536368|[[JAM MAKING SET ...|        []|\n",
            "|536369|[[BATH BUILDING B...|        []|\n",
            "|536370|[[ALARM CLOCK BAK...|        []|\n",
            "|536371|[[PAPER CHAIN KIT...|        []|\n",
            "|536372|[[HAND WARMER RED...|        []|\n",
            "|536373|[[WHITE HANGING H...|        []|\n",
            "|536374|[[VICTORIAN SEWIN...|        []|\n",
            "|536375|[[WHITE HANGING H...|        []|\n",
            "|536376|[[HOT WATER BOTTL...|        []|\n",
            "|536377|[[HAND WARMER RED...|        []|\n",
            "|536378|[[JUMBO BAG PINK ...|        []|\n",
            "|536380|[[JAM MAKING SET ...|        []|\n",
            "|536381|[[RETROSPOT TEA S...|        []|\n",
            "|536382|[[INFLATABLE POLI...|        []|\n",
            "|536384|[[WOOD BLACK BOAR...|        []|\n",
            "|536385|[[SET 3 WICKER OV...|        []|\n",
            "|536386|[[WHITE WIRE EGG ...|        []|\n",
            "+------+--------------------+----------+\n",
            "only showing top 20 rows\n",
            "\n",
            "minSupport: 0.5, minConfidence: 0.8\n",
            "+-----+----+\n",
            "|items|freq|\n",
            "+-----+----+\n",
            "+-----+----+\n",
            "\n",
            "+----------+----------+----------+----+-------+\n",
            "|antecedent|consequent|confidence|lift|support|\n",
            "+----------+----------+----------+----+-------+\n",
            "+----------+----------+----------+----+-------+\n",
            "\n",
            "+------+--------------------+----------+\n",
            "|BillNo|            Itemname|prediction|\n",
            "+------+--------------------+----------+\n",
            "|536365|[[WHITE HANGING H...|        []|\n",
            "|536366|[[HAND WARMER UNI...|        []|\n",
            "|536367|[[ASSORTED COLOUR...|        []|\n",
            "|536368|[[JAM MAKING SET ...|        []|\n",
            "|536369|[[BATH BUILDING B...|        []|\n",
            "|536370|[[ALARM CLOCK BAK...|        []|\n",
            "|536371|[[PAPER CHAIN KIT...|        []|\n",
            "|536372|[[HAND WARMER RED...|        []|\n",
            "|536373|[[WHITE HANGING H...|        []|\n",
            "|536374|[[VICTORIAN SEWIN...|        []|\n",
            "|536375|[[WHITE HANGING H...|        []|\n",
            "|536376|[[HOT WATER BOTTL...|        []|\n",
            "|536377|[[HAND WARMER RED...|        []|\n",
            "|536378|[[JUMBO BAG PINK ...|        []|\n",
            "|536380|[[JAM MAKING SET ...|        []|\n",
            "|536381|[[RETROSPOT TEA S...|        []|\n",
            "|536382|[[INFLATABLE POLI...|        []|\n",
            "|536384|[[WOOD BLACK BOAR...|        []|\n",
            "|536385|[[SET 3 WICKER OV...|        []|\n",
            "|536386|[[WHITE WIRE EGG ...|        []|\n",
            "+------+--------------------+----------+\n",
            "only showing top 20 rows\n",
            "\n",
            "minSupport: 0.6, minConfidence: 0.6\n",
            "+-----+----+\n",
            "|items|freq|\n",
            "+-----+----+\n",
            "+-----+----+\n",
            "\n",
            "+----------+----------+----------+----+-------+\n",
            "|antecedent|consequent|confidence|lift|support|\n",
            "+----------+----------+----------+----+-------+\n",
            "+----------+----------+----------+----+-------+\n",
            "\n",
            "+------+--------------------+----------+\n",
            "|BillNo|            Itemname|prediction|\n",
            "+------+--------------------+----------+\n",
            "|536365|[[WHITE HANGING H...|        []|\n",
            "|536366|[[HAND WARMER UNI...|        []|\n",
            "|536367|[[ASSORTED COLOUR...|        []|\n",
            "|536368|[[JAM MAKING SET ...|        []|\n",
            "|536369|[[BATH BUILDING B...|        []|\n",
            "|536370|[[ALARM CLOCK BAK...|        []|\n",
            "|536371|[[PAPER CHAIN KIT...|        []|\n",
            "|536372|[[HAND WARMER RED...|        []|\n",
            "|536373|[[WHITE HANGING H...|        []|\n",
            "|536374|[[VICTORIAN SEWIN...|        []|\n",
            "|536375|[[WHITE HANGING H...|        []|\n",
            "|536376|[[HOT WATER BOTTL...|        []|\n",
            "|536377|[[HAND WARMER RED...|        []|\n",
            "|536378|[[JUMBO BAG PINK ...|        []|\n",
            "|536380|[[JAM MAKING SET ...|        []|\n",
            "|536381|[[RETROSPOT TEA S...|        []|\n",
            "|536382|[[INFLATABLE POLI...|        []|\n",
            "|536384|[[WOOD BLACK BOAR...|        []|\n",
            "|536385|[[SET 3 WICKER OV...|        []|\n",
            "|536386|[[WHITE WIRE EGG ...|        []|\n",
            "+------+--------------------+----------+\n",
            "only showing top 20 rows\n",
            "\n",
            "minSupport: 0.6, minConfidence: 0.8\n",
            "+-----+----+\n",
            "|items|freq|\n",
            "+-----+----+\n",
            "+-----+----+\n",
            "\n",
            "+----------+----------+----------+----+-------+\n",
            "|antecedent|consequent|confidence|lift|support|\n",
            "+----------+----------+----------+----+-------+\n",
            "+----------+----------+----------+----+-------+\n",
            "\n",
            "+------+--------------------+----------+\n",
            "|BillNo|            Itemname|prediction|\n",
            "+------+--------------------+----------+\n",
            "|536365|[[WHITE HANGING H...|        []|\n",
            "|536366|[[HAND WARMER UNI...|        []|\n",
            "|536367|[[ASSORTED COLOUR...|        []|\n",
            "|536368|[[JAM MAKING SET ...|        []|\n",
            "|536369|[[BATH BUILDING B...|        []|\n",
            "|536370|[[ALARM CLOCK BAK...|        []|\n",
            "|536371|[[PAPER CHAIN KIT...|        []|\n",
            "|536372|[[HAND WARMER RED...|        []|\n",
            "|536373|[[WHITE HANGING H...|        []|\n",
            "|536374|[[VICTORIAN SEWIN...|        []|\n",
            "|536375|[[WHITE HANGING H...|        []|\n",
            "|536376|[[HOT WATER BOTTL...|        []|\n",
            "|536377|[[HAND WARMER RED...|        []|\n",
            "|536378|[[JUMBO BAG PINK ...|        []|\n",
            "|536380|[[JAM MAKING SET ...|        []|\n",
            "|536381|[[RETROSPOT TEA S...|        []|\n",
            "|536382|[[INFLATABLE POLI...|        []|\n",
            "|536384|[[WOOD BLACK BOAR...|        []|\n",
            "|536385|[[SET 3 WICKER OV...|        []|\n",
            "|536386|[[WHITE WIRE EGG ...|        []|\n",
            "+------+--------------------+----------+\n",
            "only showing top 20 rows\n",
            "\n",
            "minSupport: 0.8, minConfidence: 0.6\n",
            "+-----+----+\n",
            "|items|freq|\n",
            "+-----+----+\n",
            "+-----+----+\n",
            "\n",
            "+----------+----------+----------+----+-------+\n",
            "|antecedent|consequent|confidence|lift|support|\n",
            "+----------+----------+----------+----+-------+\n",
            "+----------+----------+----------+----+-------+\n",
            "\n",
            "+------+--------------------+----------+\n",
            "|BillNo|            Itemname|prediction|\n",
            "+------+--------------------+----------+\n",
            "|536365|[[WHITE HANGING H...|        []|\n",
            "|536366|[[HAND WARMER UNI...|        []|\n",
            "|536367|[[ASSORTED COLOUR...|        []|\n",
            "|536368|[[JAM MAKING SET ...|        []|\n",
            "|536369|[[BATH BUILDING B...|        []|\n",
            "|536370|[[ALARM CLOCK BAK...|        []|\n",
            "|536371|[[PAPER CHAIN KIT...|        []|\n",
            "|536372|[[HAND WARMER RED...|        []|\n",
            "|536373|[[WHITE HANGING H...|        []|\n",
            "|536374|[[VICTORIAN SEWIN...|        []|\n",
            "|536375|[[WHITE HANGING H...|        []|\n",
            "|536376|[[HOT WATER BOTTL...|        []|\n",
            "|536377|[[HAND WARMER RED...|        []|\n",
            "|536378|[[JUMBO BAG PINK ...|        []|\n",
            "|536380|[[JAM MAKING SET ...|        []|\n",
            "|536381|[[RETROSPOT TEA S...|        []|\n",
            "|536382|[[INFLATABLE POLI...|        []|\n",
            "|536384|[[WOOD BLACK BOAR...|        []|\n",
            "|536385|[[SET 3 WICKER OV...|        []|\n",
            "|536386|[[WHITE WIRE EGG ...|        []|\n",
            "+------+--------------------+----------+\n",
            "only showing top 20 rows\n",
            "\n",
            "minSupport: 0.8, minConfidence: 0.8\n",
            "+-----+----+\n",
            "|items|freq|\n",
            "+-----+----+\n",
            "+-----+----+\n",
            "\n",
            "+----------+----------+----------+----+-------+\n",
            "|antecedent|consequent|confidence|lift|support|\n",
            "+----------+----------+----------+----+-------+\n",
            "+----------+----------+----------+----+-------+\n",
            "\n",
            "+------+--------------------+----------+\n",
            "|BillNo|            Itemname|prediction|\n",
            "+------+--------------------+----------+\n",
            "|536365|[[WHITE HANGING H...|        []|\n",
            "|536366|[[HAND WARMER UNI...|        []|\n",
            "|536367|[[ASSORTED COLOUR...|        []|\n",
            "|536368|[[JAM MAKING SET ...|        []|\n",
            "|536369|[[BATH BUILDING B...|        []|\n",
            "|536370|[[ALARM CLOCK BAK...|        []|\n",
            "|536371|[[PAPER CHAIN KIT...|        []|\n",
            "|536372|[[HAND WARMER RED...|        []|\n",
            "|536373|[[WHITE HANGING H...|        []|\n",
            "|536374|[[VICTORIAN SEWIN...|        []|\n",
            "|536375|[[WHITE HANGING H...|        []|\n",
            "|536376|[[HOT WATER BOTTL...|        []|\n",
            "|536377|[[HAND WARMER RED...|        []|\n",
            "|536378|[[JUMBO BAG PINK ...|        []|\n",
            "|536380|[[JAM MAKING SET ...|        []|\n",
            "|536381|[[RETROSPOT TEA S...|        []|\n",
            "|536382|[[INFLATABLE POLI...|        []|\n",
            "|536384|[[WOOD BLACK BOAR...|        []|\n",
            "|536385|[[SET 3 WICKER OV...|        []|\n",
            "|536386|[[WHITE WIRE EGG ...|        []|\n",
            "+------+--------------------+----------+\n",
            "only showing top 20 rows\n",
            "\n"
          ]
        }
      ]
    },
    {
      "cell_type": "markdown",
      "source": [
        "**Conclusion**\n",
        "In conclusion, the FP-Growth program hasn't worked well yet. It is possibly the form of Itemname in string of sentence or lack of item's ID could be the reason behind this. If the csv's columns include item's ID, I think it would be easier to solve."
      ],
      "metadata": {
        "id": "vMplTtW1fNfH"
      }
    }
  ]
}